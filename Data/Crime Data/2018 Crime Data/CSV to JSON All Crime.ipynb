{
 "cells": [
  {
   "cell_type": "code",
   "execution_count": 3,
   "metadata": {},
   "outputs": [],
   "source": [
    "import pandas as pd\n",
    "import numpy as np\n",
    "import csv\n",
    "import json\n",
    "from pprint import pprint\n",
    "import ast"
   ]
  },
  {
   "cell_type": "code",
   "execution_count": 4,
   "metadata": {},
   "outputs": [],
   "source": [
    "def csv_to_json(file_name):\n",
    "    input_file = csv.DictReader(open(f\"{file_name}.csv\"))\n",
    "    dict_list = []\n",
    "    for row in input_file:\n",
    "        dict_list.append(row)\n",
    "    for entry in dict_list:\n",
    "        entry['Lat_Lng'] = ast.literal_eval(entry['Lat_Lng'])\n",
    "    json_2018 = json.dumps(dict_list)\n",
    "    f = open(f\"{file_name}.json\",\"w\")\n",
    "    f.write(json_2018)\n",
    "    f.close()"
   ]
  },
  {
   "cell_type": "code",
   "execution_count": 5,
   "metadata": {},
   "outputs": [],
   "source": [
    "fileNameList = ['GambProstHom2018','Kidnapping2018','Other2018','SexCrimes2018','Trespass2018','Assault2018','Burglary2018','Driving2018','Drugs2018','Vehicles2018','GrandLarceny2018']"
   ]
  },
  {
   "cell_type": "code",
   "execution_count": 6,
   "metadata": {},
   "outputs": [],
   "source": [
    "for file_name in fileNameList:\n",
    "    csv_to_json(file_name)"
   ]
  },
  {
   "cell_type": "code",
   "execution_count": null,
   "metadata": {},
   "outputs": [],
   "source": []
  }
 ],
 "metadata": {
  "kernelspec": {
   "display_name": "Python 3",
   "language": "python",
   "name": "python3"
  },
  "language_info": {
   "codemirror_mode": {
    "name": "ipython",
    "version": 3
   },
   "file_extension": ".py",
   "mimetype": "text/x-python",
   "name": "python",
   "nbconvert_exporter": "python",
   "pygments_lexer": "ipython3",
   "version": "3.6.8"
  }
 },
 "nbformat": 4,
 "nbformat_minor": 2
}
