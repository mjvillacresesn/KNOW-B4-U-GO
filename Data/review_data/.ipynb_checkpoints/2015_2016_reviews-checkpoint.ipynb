{
 "cells": [
  {
   "cell_type": "code",
   "execution_count": 15,
   "metadata": {},
   "outputs": [],
   "source": [
    "import pandas as pd\n",
    "import numpy as np"
   ]
  },
  {
   "cell_type": "code",
   "execution_count": 28,
   "metadata": {},
   "outputs": [],
   "source": [
    "def add_2015(df):\n",
    "    df['year'] = \"2015\"\n",
    "    df = df[['listing_id', 'comments', 'year']]\n",
    "    return df\n",
    "\n",
    "def add_2016(df):\n",
    "    df['year'] = \"2016\"\n",
    "    df = df[['listing_id', 'comments', 'year']]\n",
    "    return df"
   ]
  },
  {
   "cell_type": "code",
   "execution_count": 17,
   "metadata": {},
   "outputs": [],
   "source": [
    "jan_2015 = pd.read_csv('jan15.csv.gz')\n",
    "mar_2015 = pd.read_csv('mar15.csv.gz')\n",
    "may_2015 = pd.read_csv('may15.csv.gz')\n",
    "june_2015 = pd.read_csv('june15.csv.gz')\n",
    "aug_2015 = pd.read_csv('aug15.csv.gz')\n",
    "sept_2015 = pd.read_csv('sept15.csv.gz')\n",
    "oct_2015 = pd.read_csv('oct15.csv.gz')\n",
    "nov_2015 = pd.read_csv('nov15.csv.gz')\n",
    "dec_2015 = pd.read_csv('dec15.csv.gz')\n",
    "\n",
    "jan_2016 = pd.read_csv('jan16.csv.gz')\n",
    "feb_2016 = pd.read_csv('feb16.csv.gz')\n",
    "april_2016 = pd.read_csv('april16.csv.gz')\n",
    "may_2016 = pd.read_csv('may16.csv.gz')\n",
    "june_2016 = pd.read_csv('june16.csv.gz')\n",
    "july_2016 = pd.read_csv('july16.csv.gz')\n",
    "sept_2016 = pd.read_csv('sept16.csv.gz')\n",
    "oct_2016 = pd.read_csv('oct16.csv.gz')\n",
    "nov_2016 = pd.read_csv('nov16.csv.gz')\n",
    "dec_2016 = pd.read_csv('dec16.csv.gz')"
   ]
  },
  {
   "cell_type": "code",
   "execution_count": 29,
   "metadata": {},
   "outputs": [],
   "source": [
    "# Concat all files for each year and run add year funciton\n",
    "reviews_2015 = pd.concat([jan_2015, mar_2015, may_2015, june_2015, aug_2015, sept_2015, \n",
    "                          oct_2015, nov_2015, dec_2015], ignore_index=True)\n",
    "\n",
    "review_2015 = add_2015(reviews_2015)  # add 2015 columns\n",
    "\n",
    "reviews_2016 = pd.concat([jan_2016, feb_2016, april_2016, may_2016, june_2016, \n",
    "                          july_2016, sept_2016, oct_2016, nov_2016, dec_2016], ignore_index=True)\n",
    "\n",
    "review_2016 = add_2016(reviews_2016)  # add 2016 column"
   ]
  },
  {
   "cell_type": "code",
   "execution_count": 35,
   "metadata": {},
   "outputs": [
    {
     "data": {
      "text/html": [
       "<div>\n",
       "<style scoped>\n",
       "    .dataframe tbody tr th:only-of-type {\n",
       "        vertical-align: middle;\n",
       "    }\n",
       "\n",
       "    .dataframe tbody tr th {\n",
       "        vertical-align: top;\n",
       "    }\n",
       "\n",
       "    .dataframe thead th {\n",
       "        text-align: right;\n",
       "    }\n",
       "</style>\n",
       "<table border=\"1\" class=\"dataframe\">\n",
       "  <thead>\n",
       "    <tr style=\"text-align: right;\">\n",
       "      <th></th>\n",
       "      <th>listing_id</th>\n",
       "      <th>comments</th>\n",
       "      <th>year</th>\n",
       "    </tr>\n",
       "  </thead>\n",
       "  <tbody>\n",
       "    <tr>\n",
       "      <th>0</th>\n",
       "      <td>1180670</td>\n",
       "      <td>Ok, if you like the location and don't mind an...</td>\n",
       "      <td>2015</td>\n",
       "    </tr>\n",
       "    <tr>\n",
       "      <th>1</th>\n",
       "      <td>4457617</td>\n",
       "      <td>Kleine süße WG, super gelegen, sehr freundlich...</td>\n",
       "      <td>2015</td>\n",
       "    </tr>\n",
       "    <tr>\n",
       "      <th>2</th>\n",
       "      <td>722394</td>\n",
       "      <td>Extremely disappointed.</td>\n",
       "      <td>2015</td>\n",
       "    </tr>\n",
       "    <tr>\n",
       "      <th>3</th>\n",
       "      <td>4074444</td>\n",
       "      <td>Exactly as described.</td>\n",
       "      <td>2015</td>\n",
       "    </tr>\n",
       "    <tr>\n",
       "      <th>4</th>\n",
       "      <td>68046</td>\n",
       "      <td>Appartement très sympa, accueillant. A quelque...</td>\n",
       "      <td>2015</td>\n",
       "    </tr>\n",
       "  </tbody>\n",
       "</table>\n",
       "</div>"
      ],
      "text/plain": [
       "   listing_id                                           comments  year\n",
       "0     1180670  Ok, if you like the location and don't mind an...  2015\n",
       "1     4457617  Kleine süße WG, super gelegen, sehr freundlich...  2015\n",
       "2      722394                            Extremely disappointed.  2015\n",
       "3     4074444                              Exactly as described.  2015\n",
       "4       68046  Appartement très sympa, accueillant. A quelque...  2015"
      ]
     },
     "execution_count": 35,
     "metadata": {},
     "output_type": "execute_result"
    }
   ],
   "source": [
    "# Update headers\n",
    "def headers(df):\n",
    "    df = df[['listing_id', 'comments', 'year']]\n",
    "    return df\n",
    "\n",
    "reviews_15_16 = pd.concat([reviews_2015, reviews_2016], ignore_index=True)\n",
    "reviews_15_16 = headers(reviews_15_16)\n",
    "reviews_15_16.head()"
   ]
  }
 ],
 "metadata": {
  "kernelspec": {
   "display_name": "Python 3",
   "language": "python",
   "name": "python3"
  },
  "language_info": {
   "codemirror_mode": {
    "name": "ipython",
    "version": 3
   },
   "file_extension": ".py",
   "mimetype": "text/x-python",
   "name": "python",
   "nbconvert_exporter": "python",
   "pygments_lexer": "ipython3",
   "version": "3.7.1"
  }
 },
 "nbformat": 4,
 "nbformat_minor": 2
}
